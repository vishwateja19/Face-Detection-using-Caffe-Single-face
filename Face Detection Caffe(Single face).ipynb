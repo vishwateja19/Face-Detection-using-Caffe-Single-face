{
 "cells": [
  {
   "cell_type": "code",
   "execution_count": 2,
   "id": "c2c87444",
   "metadata": {},
   "outputs": [],
   "source": [
    "import cv2\n",
    "import numpy as np"
   ]
  },
  {
   "cell_type": "code",
   "execution_count": null,
   "id": "dce9d3b8",
   "metadata": {},
   "outputs": [],
   "source": [
    "image=cv2.imread('./girl.png')\n",
    "\n",
    "cv2.imshow('img',image)\n",
    "cv2.waitKey()\n",
    "cv2.destroyAllWindows()"
   ]
  },
  {
   "cell_type": "code",
   "execution_count": null,
   "id": "d3bef50a",
   "metadata": {},
   "outputs": [],
   "source": [
    "image.shape"
   ]
  },
  {
   "cell_type": "code",
   "execution_count": null,
   "id": "76f895ec",
   "metadata": {},
   "outputs": [],
   "source": [
    "## Loading model:\n",
    "\n",
    "model=cv2.dnn.readNetFromCaffe('./deploy.prototxt.txt','./res10_300x300_ssd_iter_140000_fp16.caffemodel')"
   ]
  },
  {
   "cell_type": "code",
   "execution_count": null,
   "id": "d3b0c9d4",
   "metadata": {},
   "outputs": [],
   "source": [
    "## First convert image into blob\n",
    "\n",
    "blob=cv2.dnn.blobFromImage(image,1,(300,300),(100,100,100),swapRB=True)"
   ]
  },
  {
   "cell_type": "code",
   "execution_count": null,
   "id": "6581b391",
   "metadata": {},
   "outputs": [],
   "source": [
    "blob"
   ]
  },
  {
   "cell_type": "code",
   "execution_count": null,
   "id": "52614f23",
   "metadata": {},
   "outputs": [],
   "source": [
    "blob.shape"
   ]
  },
  {
   "cell_type": "code",
   "execution_count": null,
   "id": "4c009376",
   "metadata": {},
   "outputs": [],
   "source": [
    "## give it to model\n",
    "\n",
    "model.setInput(blob)"
   ]
  },
  {
   "cell_type": "code",
   "execution_count": null,
   "id": "c6260a77",
   "metadata": {},
   "outputs": [],
   "source": [
    "detections=model.forward()"
   ]
  },
  {
   "cell_type": "code",
   "execution_count": null,
   "id": "e1a5666d",
   "metadata": {},
   "outputs": [],
   "source": [
    "detections"
   ]
  },
  {
   "cell_type": "code",
   "execution_count": null,
   "id": "42d52e66",
   "metadata": {},
   "outputs": [],
   "source": [
    "detections.shape"
   ]
  },
  {
   "cell_type": "code",
   "execution_count": null,
   "id": "65a2b310",
   "metadata": {},
   "outputs": [],
   "source": [
    "detections[0][0]"
   ]
  },
  {
   "cell_type": "code",
   "execution_count": null,
   "id": "395dfa0f",
   "metadata": {},
   "outputs": [],
   "source": [
    "image.shape[:2]"
   ]
  },
  {
   "cell_type": "code",
   "execution_count": null,
   "id": "bfb8b252",
   "metadata": {},
   "outputs": [],
   "source": [
    "h,w=image.shape[:2]"
   ]
  },
  {
   "cell_type": "code",
   "execution_count": null,
   "id": "99c275cd",
   "metadata": {},
   "outputs": [],
   "source": [
    "Threshold=0.85\n",
    "conf=[]\n",
    "cord=[]\n",
    "for i in range(detections.shape[2]):\n",
    "    ## want to access each box confidence score\n",
    "    \n",
    "    confidence=detections[0,0,i,2]\n",
    "    if confidence>Threshold:\n",
    "        conf.append(confidence)\n",
    "        cordinates=detections[0,0,i,3:7]\n",
    "        cordinates=cordinates*np.array([w,h,w,h])\n",
    "        cordinates=cordinates.astype(\"int\")\n",
    "        cord.append(cordinates)\n",
    "\n",
    "pt1=(cord[0][0],cord[0][1])\n",
    "pt2=(cord[0][2],cord[0][3])\n",
    "\n",
    "cv2.rectangle(image,pt1,pt2,(255,0,0),2)\n",
    "\n",
    "text='conf :'+str('%.2f' %(conf[0]))\n",
    "font=cv2.FONT_HERSHEY_COMPLEX\n",
    "\n",
    "cv2.putText(image,text,(cord[0][0] , cord[0][1]-5),font,1,(0,0,0),1)\n",
    "\n",
    "cv2.imshow('image',image)\n",
    "cv2.waitKey()\n",
    "cv2.destroyAllWindows()\n"
   ]
  },
  {
   "cell_type": "code",
   "execution_count": null,
   "id": "ce969d6d",
   "metadata": {},
   "outputs": [],
   "source": []
  },
  {
   "cell_type": "code",
   "execution_count": null,
   "id": "850d93d8",
   "metadata": {},
   "outputs": [],
   "source": []
  }
 ],
 "metadata": {
  "kernelspec": {
   "display_name": "Python 3 (ipykernel)",
   "language": "python",
   "name": "python3"
  },
  "language_info": {
   "codemirror_mode": {
    "name": "ipython",
    "version": 3
   },
   "file_extension": ".py",
   "mimetype": "text/x-python",
   "name": "python",
   "nbconvert_exporter": "python",
   "pygments_lexer": "ipython3",
   "version": "3.9.12"
  }
 },
 "nbformat": 4,
 "nbformat_minor": 5
}
